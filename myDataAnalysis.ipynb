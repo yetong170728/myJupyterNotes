{
 "cells": [
  {
   "cell_type": "markdown",
   "metadata": {},
   "source": [
    "### 常用信号\n",
    "1. chirp信号\n",
    "\n",
    "    $x(t)=e^{j\\Omega t^2}$\n",
    "    \n",
    "    \n",
    "### Fourier Transform\n",
    "> If a signal $x(t)$ satiesfies $\\int^{\\infty}_{-\\infty}\\left| x(t) \\right| ^2 dt < \\infty$, thus\n",
    "\n",
    "> $X(j\\Omega) = \\int ^{\\infty} _{-\\infty} x(t) e^{-j\\Omega t} dt$, $x(t) = \\frac{1}{2\\pi} \\int_{-\\infty}^{\\infty}X(j\\Omega t)e^{j\\Omega}d\\Omega$\n",
    "> FT 和 IFT 完成了时域频域相互转换, 但是**无法描述特定时间段频率的分布以及频率随时间的变化情况**\n",
    "\n",
    "#### 加入时间维, STFT\n",
    "STFT并不是时频联合分布,因为单独考虑了时间, 频率\n",
    "\n",
    "#### 时频联合分析\n",
    "#### 信号的时宽,带宽\n",
    "> 测不准原理: 没法同时准确测量信号的时间信息和频率信息($\\Delta t \\cdot \\Delta f \\geq C$)\n",
    "\n",
    "#### 信号的瞬时频率\n",
    "> 关键点在于如何理解\"瞬时\"的频率(频率其实对应一段\\[采样\\]时间,intuitively,用极限表示)\n",
    "\n",
    "#### 信号的分解\n",
    "> Hilbert空间, 只要有基就能分\n",
    "\n"
   ]
  },
  {
   "cell_type": "code",
   "execution_count": null,
   "metadata": {},
   "outputs": [],
   "source": []
  }
 ],
 "metadata": {
  "kernelspec": {
   "display_name": "Python 3",
   "language": "python",
   "name": "python3"
  },
  "language_info": {
   "codemirror_mode": {
    "name": "ipython",
    "version": 3
   },
   "file_extension": ".py",
   "mimetype": "text/x-python",
   "name": "python",
   "nbconvert_exporter": "python",
   "pygments_lexer": "ipython3",
   "version": "3.6.4"
  }
 },
 "nbformat": 4,
 "nbformat_minor": 2
}
