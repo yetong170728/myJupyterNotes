{
 "cells": [
  {
   "cell_type": "markdown",
   "metadata": {},
   "source": [
    "##### pre-liminary work\n",
    "#### 线性空间\n",
    "- 定义加法(零元素, 唯一负元素), 数乘(数的分配律,结合律)的空间\n",
    "- 线性相关: 可以表示为空间一组的向量的线性组合; 线性无关: 没法被其他向量线性表示(只能全0系数)\n",
    "- 空间的基:一组线性无关的向量;维数: 最大线性无关的个数\n",
    "> Q:矩阵乘法的计算量: \n",
    "A:(M,N)和(N,P)的矩阵相乘, 得到(M,P)的矩阵,新矩阵每个元素做了P次乘法,P次加法, 定义$\\times +$ 为一次运算,所以一共进行了$MP^2$次运算\n",
    "\n",
    "- 矩阵的迹(trace): **方阵**所有对角元素之和; 一个好性质: $trace(AB)=trace(BA)$\n",
    "- 奇异 = 不可逆, 非奇异 = 可逆, *(不可逆是件奇怪的事QAQ)* 求逆反向(转置类似): $(A_1A_2...A_m)^{-1} = A_m^{-1}...A_2^{-1}A_1^{-1}$, $A$非奇异 = $Ax=0$只有零解,$Ax=b$有唯一解 = $detA \\neq 0$\n",
    "- 特征向量, 特征值, $Ax=\\lambda x$,特征多项式 $p(\\lambda) = det(\\lambda I-A)=0$. \n",
    "> 高阶矩阵特征值计算显然不能直接套定义,不然计算量吓死人,因此需要其他方法估计\n",
    "- 矩阵的谱: 所有特征值的集合:$\\sigma(A) = {\\lambda_1, ..., \\lambda_n}$. 绝对最大的特征值是**谱半径 $\\rho(A) = max|\\lambda|$**\n",
    "> 关于特征值(谱), 有两个性质: \n",
    "> 1. $trace(A) = \\sum_\\limits{1\\leq i\\leq n}{\\lambda_i}$\n",
    "> 2. $det(A) = \\lambda_1 \\lambda_2 ... \\lambda_n$\n",
    "\n",
    "- 对角化: $D = P^{-1}AP$ = A有n个线性无关的特征向量. A有n个不同**特征值**也可对角化(注意是必要条件)\n",
    "\n"
   ]
  },
  {
   "cell_type": "code",
   "execution_count": null,
   "metadata": {},
   "outputs": [],
   "source": []
  }
 ],
 "metadata": {
  "kernelspec": {
   "display_name": "Python 3",
   "language": "python",
   "name": "python3"
  },
  "language_info": {
   "codemirror_mode": {
    "name": "ipython",
    "version": 3
   },
   "file_extension": ".py",
   "mimetype": "text/x-python",
   "name": "python",
   "nbconvert_exporter": "python",
   "pygments_lexer": "ipython3",
   "version": "3.6.4"
  }
 },
 "nbformat": 4,
 "nbformat_minor": 2
}
